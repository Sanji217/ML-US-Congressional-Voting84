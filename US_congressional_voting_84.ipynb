{
  "nbformat": 4,
  "nbformat_minor": 0,
  "metadata": {
    "colab": {
      "provenance": []
    },
    "kernelspec": {
      "name": "python3",
      "display_name": "Python 3"
    },
    "language_info": {
      "name": "python"
    }
  },
  "cells": [
    {
      "cell_type": "markdown",
      "source": [],
      "metadata": {
        "id": "MK28vcvsQJoO"
      }
    },
    {
      "cell_type": "code",
      "execution_count": null,
      "metadata": {
        "id": "tlyXBtbOMFDw"
      },
      "outputs": [],
      "source": [
        "from google.colab import drive\n",
        "drive.mount ('/content/drive')\n"
      ]
    },
    {
      "cell_type": "code",
      "source": [
        "import pandas as pd\n",
        "import matplotlib.pyplot as plt\n",
        "import numpy as np\n",
        "data = pd.read_csv('/content/drive/My Drive/Dataset/congressional_voting_records/house-votes-84.data', index_col = None , header = None , na_values = '?')\n"
      ],
      "metadata": {
        "id": "cKYv5nbdOZea"
      },
      "execution_count": 2,
      "outputs": []
    },
    {
      "cell_type": "code",
      "source": [
        "data.columns =['Class', 'handicapped-infants',\n",
        "'water-project-cost-sharing' , 'adoption-of-the-budget-resolution',\n",
        "'physician-fee-freeze' , 'el-salvador-aid',\n",
        "'religious-groups-in-schools','anti-satellite-test-ban' ,\n",
        "'aid-to-nicaraguan-contras' ,'mx-missile' , 'immigration' ,\n",
        "'synfuels-corporation-cutback','education-spending',\n",
        "'superfund-right-to-sue' , 'crime' ,'duty-free-exports','export-administration-act-south-africa' ]\n",
        "print(data.head())"
      ],
      "metadata": {
        "id": "BRU3QGYtOxpf"
      },
      "execution_count": null,
      "outputs": []
    },
    {
      "cell_type": "code",
      "source": [
        "print(data.info())"
      ],
      "metadata": {
        "id": "nn4JK6AHSwIt"
      },
      "execution_count": null,
      "outputs": []
    },
    {
      "cell_type": "code",
      "source": [
        "print(data.shape)"
      ],
      "metadata": {
        "id": "Qq-ElvaKTADE"
      },
      "execution_count": null,
      "outputs": []
    },
    {
      "cell_type": "code",
      "source": [
        "#import pandas as pd\n",
        "data = data.drop_duplicates(keep = 'first')"
      ],
      "metadata": {
        "id": "n0y7k7_WXAnU"
      },
      "execution_count": 6,
      "outputs": []
    },
    {
      "cell_type": "code",
      "source": [
        "print(data.shape)"
      ],
      "metadata": {
        "id": "r9R6CyHJfs7j"
      },
      "execution_count": null,
      "outputs": []
    },
    {
      "cell_type": "code",
      "source": [
        "print(data.isnull().sum().sort_values(ascending = False))"
      ],
      "metadata": {
        "id": "MKYuEyfLTQrN"
      },
      "execution_count": null,
      "outputs": []
    },
    {
      "cell_type": "code",
      "source": [
        "clsmap = {'republican' : 1, 'democrat':0}\n",
        "data['republican'] = data['Class'].map(clsmap)\n",
        "data.drop('Class' , axis = 1 , inplace = True)\n",
        "for column in data.columns.drop('republican'):\n",
        "  data[column+'1'] = data[column].map({'y' : 1 , 'n' : 0, '?' :np.nan })\n",
        "  data.drop(column, axis = 1,  inplace = True)\n",
        "print(data.head())\n"
      ],
      "metadata": {
        "id": "AGPtqx8WAizY"
      },
      "execution_count": null,
      "outputs": []
    },
    {
      "cell_type": "code",
      "source": [
        "#Make a copy of original data\n",
        "df1 = data.copy(deep = True)\n",
        "#df1.replace('?' , np.nan , inplace = True)\n",
        "df1.replace ({'n' : 0 , 'y' : 1} , inplace = True)\n",
        "print(df1.head())\n",
        "print(df1.dtypes)\n",
        "print(df1.shape)"
      ],
      "metadata": {
        "id": "4ND5OvYyTpzC"
      },
      "execution_count": null,
      "outputs": []
    },
    {
      "cell_type": "code",
      "source": [
        "print(df1.head())"
      ],
      "metadata": {
        "id": "NmCMD3g8fytJ"
      },
      "execution_count": null,
      "outputs": []
    },
    {
      "cell_type": "code",
      "source": [
        "#Mode Imputation\n",
        "factor_cols = df1.columns[1 :]\n",
        "for col in factor_cols:\n",
        "  df1.fillna(df1[col].mode()[0] , inplace = True)"
      ],
      "metadata": {
        "id": "SedVeC7m_5Vu"
      },
      "execution_count": 12,
      "outputs": []
    },
    {
      "cell_type": "code",
      "source": [
        "print(df1.isnull().sum())"
      ],
      "metadata": {
        "id": "0BKAH0a7iPTY"
      },
      "execution_count": null,
      "outputs": []
    },
    {
      "cell_type": "code",
      "source": [
        "#Should done after splitting\n",
        "import seaborn as sns\n",
        "df_matrix = df1.corr()\n",
        "sns.heatmap(df_matrix, annot = True)\n",
        "plt.show()"
      ],
      "metadata": {
        "id": "JoKfDNpJijBm"
      },
      "execution_count": null,
      "outputs": []
    },
    {
      "cell_type": "code",
      "source": [
        "X = df1.iloc[: ,1 : 17]\n",
        "y = df1.iloc[: ,0]\n",
        "print(X.shape , y.shape)"
      ],
      "metadata": {
        "id": "qvZtW_OkZ8_S"
      },
      "execution_count": null,
      "outputs": []
    },
    {
      "cell_type": "code",
      "source": [
        "from sklearn.model_selection import train_test_split\n",
        "from sklearn.feature_selection import SelectKBest , chi2\n",
        "X_train , X_test , y_train , y_test = train_test_split(X , y , train_size = 0.8, random_state = 42 , shuffle = True)\n",
        "\n",
        "selector = SelectKBest(score_func = chi2,k = 12)\n",
        "X_train_selected = selector.fit_transform(X_train , y_train)\n",
        "X_test_selected = selector.transform(X_test)"
      ],
      "metadata": {
        "id": "6Iu10Apwm5qc"
      },
      "execution_count": 16,
      "outputs": []
    },
    {
      "cell_type": "code",
      "source": [
        "#Names of choosen attributes\n",
        "names = X_train.columns.values[selector.get_support()]\n",
        "print(names)"
      ],
      "metadata": {
        "id": "rxPEgFWFRZ2Z"
      },
      "execution_count": null,
      "outputs": []
    },
    {
      "cell_type": "code",
      "source": [
        "print(X_train_selected.shape)\n",
        "print(X_test_selected.shape)\n",
        "print(y_train.shape)\n",
        "print(y_test.shape)"
      ],
      "metadata": {
        "id": "Pk83v9HzSSyG"
      },
      "execution_count": null,
      "outputs": []
    },
    {
      "cell_type": "code",
      "source": [
        "#Check if dataset is Imbalanced\n",
        "import numpy as np\n",
        "lab , counts = np.unique(y_test , return_counts = True)\n",
        "p = counts/len(y_test)\n",
        "print(p)\n",
        "print(y_test)"
      ],
      "metadata": {
        "id": "t4oIhsI1eg_b"
      },
      "execution_count": null,
      "outputs": []
    },
    {
      "cell_type": "code",
      "source": [
        "#Building decision tree model\n",
        "from sklearn.tree import DecisionTreeClassifier\n",
        "from sklearn import metrics\n",
        "from sklearn import tree\n",
        "from sklearn.metrics import accuracy_score\n",
        "from sklearn.metrics import confusion_matrix\n",
        "from sklearn.metrics import precision_score"
      ],
      "metadata": {
        "id": "kK5HWV6q2feL"
      },
      "execution_count": 20,
      "outputs": []
    },
    {
      "cell_type": "code",
      "source": [
        "#Build Decision Tree model\n",
        "dt_cls = DecisionTreeClassifier(criterion= 'gini', min_samples_split = 2)\n",
        "dt_cls = dt_cls.fit(X_train_selected , y_train)\n",
        "dt_y_pred = dt_cls.predict(X_test_selected)\n",
        "from sklearn.tree import plot_tree\n",
        "#tree.plot_tree(dt_cls)"
      ],
      "metadata": {
        "id": "MZRu11kU23Hr"
      },
      "execution_count": 21,
      "outputs": []
    },
    {
      "cell_type": "code",
      "source": [
        "from sklearn.metrics import confusion_matrix\n",
        "from sklearn.metrics import precision_score\n",
        "tn , fp , fn , tp = confusion_matrix(y_test, dt_y_pred).ravel()\n",
        "print(\"Model Accuracy: %.3f\"% accuracy_score(y_test , dt_y_pred))"
      ],
      "metadata": {
        "id": "aqXKC-gKdxzv"
      },
      "execution_count": null,
      "outputs": []
    },
    {
      "cell_type": "code",
      "source": [
        "print(tp , tn , fp , fn)"
      ],
      "metadata": {
        "id": "Jjs-sh276R6o",
        "colab": {
          "base_uri": "https://localhost:8080/"
        },
        "outputId": "0348651d-c4dd-4b29-e148-2cd18aefade6"
      },
      "execution_count": 23,
      "outputs": [
        {
          "output_type": "stream",
          "name": "stdout",
          "text": [
            "23 42 2 2\n"
          ]
        }
      ]
    },
    {
      "cell_type": "code",
      "source": [
        "accuracy = (tp+tn)/(tp+tn+fp+fn)\n",
        "precision = tp / (tp + fp)\n",
        "recall = tp / (tp + fn)\n",
        "specificity = tn / (tn + fp)\n",
        "sensitivity = tp / (tp + fn)\n",
        "print(\"Accuracy: %.3f\"%accuracy)\n",
        "print(\"Precision: %.3f\"%precision)\n",
        "print(\"Recall: %.3f\"%recall)\n",
        "print(\"Specificity: %.3f \"%specificity)\n",
        "print(\"Sensitivity: %.3f\"%sensitivity)\n"
      ],
      "metadata": {
        "id": "qUQtxX6a7Dt0"
      },
      "execution_count": null,
      "outputs": []
    },
    {
      "cell_type": "code",
      "source": [
        "#Counting the number of each class\n",
        "import numpy as np\n",
        "unique , counts = np.unique(y_test , return_counts = True)\n",
        "print(dict(zip(unique , counts)))"
      ],
      "metadata": {
        "id": "xPvt6VbX4wZH"
      },
      "execution_count": null,
      "outputs": []
    },
    {
      "cell_type": "code",
      "source": [
        "from sklearn import tree\n",
        "import matplotlib.pyplot as plt\n",
        "tree.plot_tree(dt_cls , filled =True)\n",
        "plt.rcParams['figure.figsize']"
      ],
      "metadata": {
        "id": "jN1sEg8iM9d_"
      },
      "execution_count": null,
      "outputs": []
    },
    {
      "cell_type": "code",
      "source": [
        "from sklearn.tree import _tree\n",
        "\n",
        "def tree_to_code(tree , feature_names):\n",
        "  tree_ = tree.tree_\n",
        "  feature_name = [\n",
        "      feature_names[i] if i != _tree.TREE_UNDEFINED else \"undefined!\"\n",
        "      for i in tree_.feature\n",
        "  ]\n",
        "  print('def tree({}): '.format(\" , \".join(feature_names)))\n",
        "  def recurse(node , depth):\n",
        "    indent = \" \" * depth\n",
        "    if tree_.feature[node] != _tree.TREE_UNDEFINED:\n",
        "      name = feature_name[node]\n",
        "      threshold = tree_.threshold[node]\n",
        "      print(\"{} if <= {} : \".format(indent , name ,  threshold))\n",
        "      recurse(tree_.children_left[node] , depth+1)\n",
        "      print(\"{} else: # if {} > {}\".format(indent , name , threshold))\n",
        "      recurse(tree_.children_right[node], depth+1)\n",
        "    else:\n",
        "      print(\"{} return {}\".format(indent,  tree_.value[node]))\n",
        "  recurse(0 , 1)"
      ],
      "metadata": {
        "id": "fIqhqGOiOXfQ"
      },
      "execution_count": 27,
      "outputs": []
    },
    {
      "cell_type": "code",
      "source": [
        "from sklearn.tree import _tree\n",
        "\n",
        "def tree_to_code(tree, feature_names):\n",
        "  tree_ = tree.tree_\n",
        "  feature_name = [\n",
        "      feature_names[i] if i != _tree.TREE_UNDEFINED and i < len(feature_names) else \"undefined!\"  # Added a condition to check index bounds\n",
        "      for i in tree_.feature\n",
        "  ]\n",
        "  print('def tree({}): '.format(\" , \".join(feature_names)))\n",
        "\n",
        "  def recurse(node, depth):\n",
        "    indent = \" \" * depth\n",
        "    if tree_.feature[node] != _tree.TREE_UNDEFINED:\n",
        "      name = feature_name[node]\n",
        "      threshold = tree_.threshold[node]\n",
        "      print(\"{} if <= {} : \".format(indent, name, threshold))\n",
        "      recurse(tree_.children_left[node], depth + 1)\n",
        "      print(\"{} else: # if {} > {}\".format(indent, name, threshold))\n",
        "      recurse(tree_.children_right[node], depth + 1)\n",
        "    else:\n",
        "      print(\"{} return {}\".format(indent, tree_.value[node]))\n",
        "\n",
        "  recurse(0, 1)"
      ],
      "metadata": {
        "id": "yarRLNm2RRb0"
      },
      "execution_count": 65,
      "outputs": []
    },
    {
      "cell_type": "code",
      "source": [
        "tree_to_code(dt_cls ,names)"
      ],
      "metadata": {
        "id": "tRdGR89XRYSj"
      },
      "execution_count": null,
      "outputs": []
    },
    {
      "cell_type": "code",
      "source": [
        "#Build optimized Decision Tree model\n",
        "dt_cls = DecisionTreeClassifier(criterion = 'entropy' , max_depth = 4, min_samples_split= 2)\n",
        "dt_cls = dt_cls.fit(X_train , y_train)\n",
        "\n",
        "y_pred = dt_cls.predict(X_test)\n",
        "print(\"Optimized Decision Tree Accuracy: %.3f\"% metrics.accuracy_score(y_test , y_pred))\n",
        "tree.plot_tree(dt_cls)\n",
        "plt.figure()\n",
        "from sklearn import tree\n",
        "import matplotlib.pyplot as plt\n",
        "tree.plot_tree(dt_cls , filled =True)\n",
        "plt.rcParams['figure.figsize']"
      ],
      "metadata": {
        "id": "WY7RGO4r4jNe"
      },
      "execution_count": null,
      "outputs": []
    },
    {
      "cell_type": "code",
      "source": [
        "\n",
        "tn , fp , fn , tp = confusion_matrix(y_test, y_pred).ravel()\n",
        "print(tn , fp , fn , tp)\n",
        "accuracy = (tp+tn) /(tn+fp+fn+tp)\n",
        "precision = tp / (tp + fp)\n",
        "recall = tp / (tp + fn)\n",
        "specificity = tn / (tn + fp)\n",
        "sensitivity = tp / (tp + fn)\n",
        "print(\"Accuracy: %.3f\"% accuracy)\n",
        "print(\"Precision: %.3f\"%precision)\n",
        "print(\"Recall: %.3f\"%recall)\n",
        "print(\"Specificity: %.3f \"%specificity)\n",
        "print(\"Sensitivity: %.3f\"%sensitivity)"
      ],
      "metadata": {
        "id": "xjg3-c_D57eB"
      },
      "execution_count": null,
      "outputs": []
    },
    {
      "cell_type": "code",
      "source": [
        "tree_to_code(dt_cls ,names)"
      ],
      "metadata": {
        "id": "25rodEgtX1Sd"
      },
      "execution_count": null,
      "outputs": []
    },
    {
      "cell_type": "code",
      "source": [
        "from sklearn import tree\n",
        "import matplotlib.pyplot as plt\n",
        "tree.plot_tree(dt_cls , filled =True)\n",
        "plt.rcParams['figure.figsize']"
      ],
      "metadata": {
        "id": "euZ7m_RWnGNc"
      },
      "execution_count": null,
      "outputs": []
    },
    {
      "cell_type": "code",
      "source": [
        "#Build Logistic Regression Model\n",
        "from sklearn.linear_model import LogisticRegression\n",
        "logistic_Reg = LogisticRegression(penalty = 'l2' ,C = 10 , random_state = 0, solver = 'liblinear').fit(X_train_selected , y_train)\n",
        "y_pred = logistic_Reg.predict(X_test_selected)\n",
        "print(\"Logistic Regression Accuracy: %.3f\"%metrics.accuracy_score(y_test , y_pred))\n"
      ],
      "metadata": {
        "id": "08NkHeIHmUUB"
      },
      "execution_count": null,
      "outputs": []
    },
    {
      "cell_type": "code",
      "source": [
        "lr_Cmat = confusion_matrix(y_test , y_pred)\n",
        "print(lr_Cmat)\n",
        "tn , fp , fn , tp = confusion_matrix(y_test, y_pred).ravel()\n",
        "accuracy = (tp+tn)/(tp+tn + fp+fn)\n",
        "precision = tp / (tp + fp)\n",
        "recall = tp / (tp + fn)\n",
        "specificity = tn / (tn + fp)\n",
        "sensitivity = tp / (tp + fn)\n",
        "print(\"Accuracy: %.3f\"%accuracy)\n",
        "print(\"Precision: %.3f\"%precision)\n",
        "print(\"Recall: %.3f\"%recall)\n",
        "print(\"Specificity: %.3f\"%specificity)\n",
        "print(\"Sensitivity: %.3f\"%sensitivity)"
      ],
      "metadata": {
        "id": "F2nnS23n4EU1"
      },
      "execution_count": null,
      "outputs": []
    },
    {
      "cell_type": "code",
      "source": [
        "from sklearn.model_selection import GridSearchCV\n",
        "param = {'penalty': ['l1' , 'l2'] ,\n",
        "          'C': [0.0001 ,0.001 , 0.01 , 1 , 10 , 100]}\n",
        "model = LogisticRegression()\n",
        "grid_search = GridSearchCV(model, param, cv = 5)\n",
        "grid_search.fit(X_train_selected , y_train)\n",
        "print(grid_search.best_params_)\n",
        "print(grid_search.best_score_)\n",
        "best_model = grid_search.best_estimator_\n",
        "y_pred = best_model.predict(X_test_selected)\n",
        "print('accuracy: %.3f'%accuracy_score(y_test , y_pred))\n"
      ],
      "metadata": {
        "id": "bsr-x-i01vgL"
      },
      "execution_count": null,
      "outputs": []
    },
    {
      "cell_type": "code",
      "source": [
        "lr_Cmat = confusion_matrix(y_test , y_pred)\n",
        "print(lr_Cmat)\n",
        "tn , fp , fn , tp = confusion_matrix(y_test, y_pred).ravel()\n",
        "accuracy = tp/(tp+fn)\n",
        "precision = tp / (tp + fp)\n",
        "recall = tp / (tp + fn)\n",
        "specificity = tn / (tn + fp)\n",
        "sensitivity = tp / (tp + fn)\n",
        "print(\"Accuracy: %.3f\"%accuracy)\n",
        "print(\"Precision: %.3f\"%precision)\n",
        "print(\"Recall: %.3f\"%recall)\n",
        "print(\"Specificity: %.3f\"%specificity)\n",
        "print(\"Sensitivity: %.3f\"%sensitivity)"
      ],
      "metadata": {
        "id": "iVi5Dz1dnUCH"
      },
      "execution_count": null,
      "outputs": []
    },
    {
      "cell_type": "code",
      "source": [
        "#Build Logistic Regression Model\n",
        "from sklearn.linear_model import LogisticRegression\n",
        "logistic_Reg = LogisticRegression( C = 0.01, solver = 'liblinear').fit(X_train_selected , y_train)\n",
        "y_pred = logistic_Reg.predict(X_test_selected)\n",
        "print(\"Logistic Regression Accuracy: %.3f\"% metrics.accuracy_score(y_test , y_pred))"
      ],
      "metadata": {
        "id": "C1RM_9UIGTlU"
      },
      "execution_count": null,
      "outputs": []
    },
    {
      "cell_type": "code",
      "source": [
        "lr_Cmat = confusion_matrix(y_test , y_pred)\n",
        "print(lr_Cmat)\n",
        "tn , fp , fn , tp = confusion_matrix(y_test, y_pred).ravel()\n",
        "accuracy = (tp+tn)/(tn+ fp+tp+fn)\n",
        "precision = tp / (tp + fp)\n",
        "recall = tp / (tp + fn)\n",
        "specificity = tn / (tn + fp)\n",
        "sensitivity = tp / (tp + fn)\n",
        "print(\"Accuracy:%.3f\"% accuracy)\n",
        "print(\"Precision: %.3f \" %precision)\n",
        "print(\"Recall: %.3f\"%recall)\n",
        "print(\"Specificity: %.3f \"%specificity)\n",
        "print(\"Sensitivity: %.3f\"%sensitivity)"
      ],
      "metadata": {
        "id": "xIj6GO_NGUIR"
      },
      "execution_count": null,
      "outputs": []
    },
    {
      "cell_type": "code",
      "source": [
        "from sklearn import tree\n",
        "import matplotlib.pyplot as plt\n",
        "tree.plot_tree(dt_cls , filled =True)\n",
        "plt.rcParams['figure.figsize']"
      ],
      "metadata": {
        "id": "6R6OZm1AL8WU"
      },
      "execution_count": null,
      "outputs": []
    },
    {
      "cell_type": "code",
      "source": [
        "\n",
        "from sklearn.ensemble import RandomForestClassifier\n",
        "rfc = RandomForestClassifier( criterion = 'gini' , random_state = 0 , min_samples_split = 3)\n",
        "rfc.fit(X_train_selected , y_train)\n",
        "y_pred = rfc.predict(X_test_selected)\n",
        "print(\"Model Accuracy: %.3f\"%accuracy_score(y_test , y_pred) )"
      ],
      "metadata": {
        "id": "wlbmvk_9qaxZ"
      },
      "execution_count": null,
      "outputs": []
    },
    {
      "cell_type": "code",
      "source": [
        "tn , fp , fn , tp = confusion_matrix(y_test, y_pred).ravel()\n",
        "print(tp , tn , fp , fn)\n",
        "accuracy = (tp+tn)/(tp+tn+fp+fn)\n",
        "precision = tp / (tp + fp)\n",
        "recall = tp / (tp + fn)\n",
        "specificity = tn / (tn + fp)\n",
        "sensitivity = tp / (tp + fn)\n",
        "print(\"Accuracy: %.3f\"%accuracy)\n",
        "print(\"Precision: %.3f\"%precision)\n",
        "print(\"Recall: .%.3f\"%recall)\n",
        "print(\"Specificity: %.3f \"% specificity)\n",
        "print(\"Sensitivity: %.3f\"%sensitivity)"
      ],
      "metadata": {
        "id": "kmivBwORuIhO"
      },
      "execution_count": null,
      "outputs": []
    },
    {
      "cell_type": "code",
      "source": [
        "rfc = RandomForestClassifier(criterion = 'entropy' ,max_depth = 4, random_state =1, min_samples_split = 2)\n",
        "rfc.fit(X_train_selected , y_train)\n",
        "y_pred = rfc.predict(X_test_selected)\n",
        "print(\"Model Accuracy: %.3f\"%accuracy_score(y_test , y_pred) )"
      ],
      "metadata": {
        "id": "WewQuDJeAJm7"
      },
      "execution_count": null,
      "outputs": []
    },
    {
      "cell_type": "code",
      "source": [
        "\n",
        "rfc_Cmat = confusion_matrix(y_test , y_pred)\n",
        "print(rfc_Cmat)\n",
        "tn , fp , fn , tp = confusion_matrix(y_test, y_pred).ravel()\n",
        "accuracy = (tp+tn)/(tp+tn+fp+fn)\n",
        "precision = tp / (tp + fp)\n",
        "recall = tp / (tp + fn)\n",
        "specificity = tn / (tn + fp)\n",
        "sensitivity = tp / (tp + fn)\n",
        "print(\"Accuracy: %.3f\"% accuracy)\n",
        "print(\"Precision: %.3f\"%precision)\n",
        "print(\"Recall: %.3f\"%recall)\n",
        "print(\"Specificity: %.3f\"%specificity)\n",
        "print(\"Sensitivity: %.3f\"%sensitivity)"
      ],
      "metadata": {
        "id": "hIJwSIG8UMtQ"
      },
      "execution_count": null,
      "outputs": []
    },
    {
      "cell_type": "code",
      "source": [
        "#Building Neural Network\n",
        "from sklearn.neural_network import MLPClassifier\n",
        "nn = MLPClassifier(random_state = 1 , max_iter = 50).fit(X_train_selected , y_train)\n",
        "nn.predict(X_test_selected )"
      ],
      "metadata": {
        "id": "ge9dcve1Ajl8"
      },
      "execution_count": null,
      "outputs": []
    },
    {
      "cell_type": "code",
      "source": [
        "nn_Cmat = confusion_matrix(y_test , y_pred)\n",
        "print(rfc_Cmat)\n",
        "tn , fp , fn , tp = confusion_matrix(y_test, y_pred).ravel()\n",
        "accuracy = (tp+tn)/(tp+tn+fp+fn)\n",
        "precision = tp / (tp + fp)\n",
        "recall = tp / (tp + fn)\n",
        "specificity = tn / (tn + fp)\n",
        "sensitivity = tp / (tp + fn)\n",
        "print(\"Accuracy: \" , accuracy)\n",
        "print(\"Precision: \" ,precision)\n",
        "print(\"Recall: \", recall)\n",
        "print(\"Specificity: \", specificity)\n",
        "print(\"Sensitivity: \",sensitivity)"
      ],
      "metadata": {
        "id": "pVFCVEmdIFu7"
      },
      "execution_count": null,
      "outputs": []
    },
    {
      "cell_type": "code",
      "source": [
        "#Building Neural Network\n",
        "from sklearn.neural_network import MLPClassifier\n",
        "nn = MLPClassifier(hidden_layer_sizes = (5,),activation = \"relu\", solver = 'adam', alpha = 0.001,learning_rate = 'constant' ,random_state = 1 , max_iter = 200 ).fit(X_train_selected , y_train)\n",
        "y_pred = nn.predict(X_test_selected )\n",
        "print(\"Model Accuracy: %.3f\"%accuracy_score(y_test , y_pred) )"
      ],
      "metadata": {
        "id": "t2D54qvLJBC9"
      },
      "execution_count": null,
      "outputs": []
    },
    {
      "cell_type": "code",
      "source": [
        "nn_Cmat = confusion_matrix(y_test , y_pred)\n",
        "print(nn_Cmat)\n",
        "tn , fp , fn , tp = confusion_matrix(y_test, y_pred).ravel()\n",
        "accuracy = (tp+tn)/(tp+tn+fp+fn)\n",
        "precision = tp / (tp + fp)\n",
        "recall = tp / (tp + fn)\n",
        "specificity = tn / (tn + fp)\n",
        "sensitivity = tp / (tp + fn)\n",
        "print(\"Accuracy: %.3f \"% accuracy)\n",
        "print(\"Precision: %.3f \"%precision)\n",
        "print(\"Recall: %.3f\"%recall)\n",
        "print(\"Specificity: %.3f\"%specificity)\n",
        "print(\"Sensitivity: %.3f\"%sensitivity)\n"
      ],
      "metadata": {
        "id": "UawJ7RJUJIMa"
      },
      "execution_count": null,
      "outputs": []
    },
    {
      "cell_type": "code",
      "source": [
        "#Building Neural Network\n",
        "from sklearn.neural_network import MLPClassifier\n",
        "nn = MLPClassifier(hidden_layer_sizes = (3,),activation = \"relu\", solver = 'lbfgs', alpha = 0.0001,learning_rate = 'constant' ,random_state = 1 , max_iter = 300 ).fit(X_train_selected , y_train)\n",
        "y_pred = nn.predict(X_test_selected )\n",
        "print(\"Model Accuracy: %.3f\"%accuracy_score(y_test , y_pred) )"
      ],
      "metadata": {
        "id": "1xHYzE5aybo-"
      },
      "execution_count": null,
      "outputs": []
    },
    {
      "cell_type": "code",
      "source": [
        "tn , fn , fp ,tp = confusion_matrix(y_test, y_pred).ravel()\n",
        "print(tn , fn , fp , tp)\n",
        "accuracy = (tp+tn)/(tp+tn+fp+fn)\n",
        "precision = tp / (tp + fp)\n",
        "recall = tp / (tp + fn)\n",
        "specificity = tn / (tn + fp)\n",
        "sensitivity = tp / (tp + fn)\n",
        "print(\"Accuracy: %.3f \"% accuracy)\n",
        "print(\"Precision: %.3f \"%precision)\n",
        "print(\"Recall: %.3f\"%recall)\n",
        "print(\"Specificity: %.3f\"%specificity)\n",
        "print(\"Sensitivity: %.3f\"%sensitivity)"
      ],
      "metadata": {
        "id": "E2NWvgZKk0wt"
      },
      "execution_count": null,
      "outputs": []
    },
    {
      "cell_type": "code",
      "source": [
        "import tensorflow as tf\n",
        "print(\"tensorflow version: \", tf.__version__)"
      ],
      "metadata": {
        "id": "olN1qZWEBdGO"
      },
      "execution_count": null,
      "outputs": []
    },
    {
      "cell_type": "code",
      "source": [
        "model = Sequential()\n",
        "model.add(Dense(units = 5, activation = 'relu' , input_shape = (12,)))\n",
        "#model.add(Dense(units = 2, activation = 'relu'))\n",
        "model.add(Dense(1, activation = 'sigmoid')) # Change to 1 unit and sigmoid activation\n",
        "adam = keras.optimizers.Adam(learning_rate = 0.001)"
      ],
      "metadata": {
        "id": "wTBF-v5KQTIe"
      },
      "execution_count": null,
      "outputs": []
    },
    {
      "cell_type": "code",
      "source": [
        "model.compile(loss = 'binary_crossentropy' , optimizer = adam , metrics = ['accuracy'])\n",
        "model.fit(X_train_selected, y_train, epochs = 100)\n",
        "loss_metrics = model.evaluate(X_test_selected , y_test)\n",
        "print(model.summary())\n",
        "print('loss: %.3f'%loss_metrics[0])\n",
        "print('Accuracy: %.3f'%loss_metrics[1])\n",
        "\n",
        "y_predict = model.predict(X_test_selected)"
      ],
      "metadata": {
        "id": "yGdmdl2UF_NJ"
      },
      "execution_count": null,
      "outputs": []
    },
    {
      "cell_type": "code",
      "source": [
        "from sklearn.metrics import confusion_matrix , ConfusionMatrixDisplay\n",
        "y_predict = tf.squeeze(y_predict)\n",
        "y_predict = np.array([1 if x ==1 else 0 for x in y_predict])\n",
        "actual = np.array(y_test)\n",
        "confusion_mat = confusion_matrix(actual , y_predict)\n",
        "displ = ConfusionMatrixDisplay(confusion_matrix = confusion_mat)\n",
        "displ.plot()"
      ],
      "metadata": {
        "id": "u1HD0Rt1HF3A"
      },
      "execution_count": null,
      "outputs": []
    },
    {
      "cell_type": "code",
      "source": [
        "\n",
        "result = confusion_matrix(y_test, np.rint (y_predict))\n",
        "print(result)"
      ],
      "metadata": {
        "id": "tLsojXlQ0BvK"
      },
      "execution_count": null,
      "outputs": []
    },
    {
      "cell_type": "code",
      "source": [
        "#tn , fp , fn , tp =unzip(confusion_mat)\n",
        "tn , fp , fn  , tp = result.ravel()\n",
        "accuracy = (tp+tn)/(tp+tn+fp+fn)\n",
        "precision = tp / (tp + fp)\n",
        "recall = tp / (tp + fn)\n",
        "specificity = tn / (tn + fp)\n",
        "sensitivity = tp / (tp + fn)\n",
        "print(\"Accuracy: \" , accuracy)\n",
        "print(\"Precision: \" ,precision)\n",
        "print(\"Recall: \", recall)\n",
        "print(\"Specificity: \", specificity)\n",
        "print(\"Sensitivity: \",sensitivity)\n",
        "recall = tp / (tp + fn)\n",
        "specificity = tn / (tn + fp)\n",
        "sensitivity = tp / (tp + fn)\n",
        "print(\"Accuracy: \" , accuracy)\n",
        "print(\"Precision: \" ,precision)\n",
        "print(\"Recall: \", recall)\n",
        "print(\"Specificity: \", specificity)\n",
        "print(\"Sensitivity: \",sensitivity)\n"
      ],
      "metadata": {
        "id": "DBAMcK_5KpgJ"
      },
      "execution_count": null,
      "outputs": []
    }
  ]
}